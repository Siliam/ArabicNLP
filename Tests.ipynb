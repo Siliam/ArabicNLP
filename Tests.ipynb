{
 "cells": [
  {
   "cell_type": "code",
   "execution_count": 1,
   "id": "a8826622",
   "metadata": {},
   "outputs": [],
   "source": [
    "# pip install Farasa"
   ]
  },
  {
   "cell_type": "code",
   "execution_count": 1,
   "id": "52766114",
   "metadata": {},
   "outputs": [],
   "source": [
    "from farasa.pos import FarasaPOSTagger \n",
    "from farasa.ner import FarasaNamedEntityRecognizer \n",
    "from farasa.diacratizer import FarasaDiacritizer \n",
    "from farasa.segmenter import FarasaSegmenter \n",
    "from farasa.stemmer import FarasaStemmer"
   ]
  },
  {
   "cell_type": "code",
   "execution_count": 2,
   "id": "b3a55abd",
   "metadata": {},
   "outputs": [],
   "source": [
    "text = \"و متى سكن الليل و عم الظلام تردد إلى المزرعة أولئك الذين لم يبيتوا معنا من الأمس. و فور اكتمالهم تنطلق نقرة الطبل الأولى تتبعها رنة عود، و نبدأ معا ليلة أخرى في دياليز الغياب. نجرج أجسادنا و نترك لأرواحنا فرصة أن تغتسل قليلاً من فوضانا.\""
   ]
  },
  {
   "cell_type": "code",
   "execution_count": 3,
   "id": "64483f57",
   "metadata": {},
   "outputs": [],
   "source": [
    "stemmer = FarasaStemmer()"
   ]
  },
  {
   "cell_type": "code",
   "execution_count": 4,
   "id": "31e156bf",
   "metadata": {},
   "outputs": [
    {
     "name": "stdout",
     "output_type": "stream",
     "text": [
      "Stemmed:\n",
      " و متى سكن ليل و عم ظلام تردد إلى مزرع أولائك الذي لم بات مع من أمس . و فور اكتمال انطلق نقرة طبل أول تبع رنة عود ، و بدأ معا ليلة آخر في دياليز غياب . نجرج جسد و نتر روح فرصة أن اغتسل قليل من فوضا .\n"
     ]
    }
   ],
   "source": [
    "stemmed = stemmer.stem(text)\n",
    "print(\"Stemmed:\\n\", stemmed)"
   ]
  },
  {
   "cell_type": "code",
   "execution_count": 5,
   "id": "057c4965",
   "metadata": {},
   "outputs": [],
   "source": [
    "segmenter = FarasaSegmenter()"
   ]
  },
  {
   "cell_type": "code",
   "execution_count": 6,
   "id": "db80447b",
   "metadata": {},
   "outputs": [
    {
     "name": "stdout",
     "output_type": "stream",
     "text": [
      "Segmented:\n",
      " و متى سكن ال+ليل و عم ال+ظلام تردد إلى ال+مزرع+ة أولئك الذين لم يبيت+وا مع+نا من ال+أمس . و فور اكتمال+هم تنطلق نقر+ة ال+طبل ال+أولى تتبع+ها رن+ة عود ، و نبدأ مع+ا ليل+ة أخرى في دياليز ال+غياب . نجرج أجساد+نا و نترك ل+أرواح+نا فرص+ة أن تغتسل قليل+ا من فوضا+نا .\n"
     ]
    }
   ],
   "source": [
    "segmented = segmenter.segment(text)\n",
    "print(\"Segmented:\\n\", segmented)"
   ]
  },
  {
   "cell_type": "code",
   "execution_count": 7,
   "id": "f9ce25dd",
   "metadata": {},
   "outputs": [],
   "source": [
    "pos_tagger = FarasaPOSTagger()"
   ]
  },
  {
   "cell_type": "code",
   "execution_count": 8,
   "id": "0c7cfbbf",
   "metadata": {},
   "outputs": [
    {
     "name": "stderr",
     "output_type": "stream",
     "text": [
      "[2024-02-28 23:44:28,827 - farasapy_logger - CRITICAL]: error occurred! stdout: , None,  stderr: , None\n",
      "[2024-02-28 23:44:28,827 - farasapy_logger - CRITICAL]: return code: 1\n"
     ]
    },
    {
     "ename": "Exception",
     "evalue": "Internal Error occurred!",
     "output_type": "error",
     "traceback": [
      "\u001b[1;31m---------------------------------------------------------------------------\u001b[0m",
      "\u001b[1;31mException\u001b[0m                                 Traceback (most recent call last)",
      "Cell \u001b[1;32mIn[8], line 1\u001b[0m\n\u001b[1;32m----> 1\u001b[0m pos_tagged \u001b[38;5;241m=\u001b[39m pos_tagger\u001b[38;5;241m.\u001b[39mtag(text)\n\u001b[0;32m      2\u001b[0m \u001b[38;5;28mprint\u001b[39m(\u001b[38;5;124m\"\u001b[39m\u001b[38;5;124mPOS Tagged\u001b[39m\u001b[38;5;124m\"\u001b[39m, pos_tagged)\n",
      "File \u001b[1;32m~\\anaconda3\\Lib\\site-packages\\farasa\\pos.py:64\u001b[0m, in \u001b[0;36mFarasaPOSTagger.tag\u001b[1;34m(self, text)\u001b[0m\n\u001b[0;32m     63\u001b[0m \u001b[38;5;28;01mdef\u001b[39;00m \u001b[38;5;21mtag\u001b[39m(\u001b[38;5;28mself\u001b[39m, text):\n\u001b[1;32m---> 64\u001b[0m     \u001b[38;5;28;01mreturn\u001b[39;00m \u001b[38;5;28mself\u001b[39m\u001b[38;5;241m.\u001b[39m_do_task(text\u001b[38;5;241m=\u001b[39mtext)\n",
      "File \u001b[1;32m~\\anaconda3\\Lib\\site-packages\\farasa\\__base.py:238\u001b[0m, in \u001b[0;36mFarasaBase._do_task\u001b[1;34m(self, text)\u001b[0m\n\u001b[0;32m    236\u001b[0m     \u001b[38;5;28;01mreturn\u001b[39;00m \u001b[38;5;28mself\u001b[39m\u001b[38;5;241m.\u001b[39m_do_task_interactive(strip_text)\n\u001b[0;32m    237\u001b[0m \u001b[38;5;28;01melse\u001b[39;00m:\n\u001b[1;32m--> 238\u001b[0m     \u001b[38;5;28;01mreturn\u001b[39;00m \u001b[38;5;28mself\u001b[39m\u001b[38;5;241m.\u001b[39m_do_task_standalone(strip_text)\n",
      "File \u001b[1;32m~\\anaconda3\\Lib\\site-packages\\farasa\\__base.py:231\u001b[0m, in \u001b[0;36mFarasaBase._do_task_standalone\u001b[1;34m(self, strip_text)\u001b[0m\n\u001b[0;32m    229\u001b[0m \u001b[38;5;28;01mdef\u001b[39;00m \u001b[38;5;21m_do_task_standalone\u001b[39m(\u001b[38;5;28mself\u001b[39m, strip_text):\n\u001b[0;32m    230\u001b[0m     byted_strip_text \u001b[38;5;241m=\u001b[39m \u001b[38;5;28mstr\u001b[39m\u001b[38;5;241m.\u001b[39mencode(strip_text)\n\u001b[1;32m--> 231\u001b[0m     \u001b[38;5;28;01mreturn\u001b[39;00m \u001b[38;5;28mself\u001b[39m\u001b[38;5;241m.\u001b[39m_run_task(btext\u001b[38;5;241m=\u001b[39mbyted_strip_text)\n",
      "File \u001b[1;32m~\\anaconda3\\Lib\\site-packages\\farasa\\__base.py:191\u001b[0m, in \u001b[0;36mFarasaBase._run_task\u001b[1;34m(self, btext)\u001b[0m\n\u001b[0;32m    187\u001b[0m         \u001b[38;5;28mself\u001b[39m\u001b[38;5;241m.\u001b[39mlogger\u001b[38;5;241m.\u001b[39mcritical(\n\u001b[0;32m    188\u001b[0m             \u001b[38;5;124mf\u001b[39m\u001b[38;5;124m\"\u001b[39m\u001b[38;5;124merror occurred! stdout: , \u001b[39m\u001b[38;5;132;01m{\u001b[39;00mproc\u001b[38;5;241m.\u001b[39mstdout\u001b[38;5;132;01m}\u001b[39;00m\u001b[38;5;124m,  stderr: , \u001b[39m\u001b[38;5;132;01m{\u001b[39;00mproc\u001b[38;5;241m.\u001b[39mstderr\u001b[38;5;132;01m}\u001b[39;00m\u001b[38;5;124m\"\u001b[39m\n\u001b[0;32m    189\u001b[0m         )\n\u001b[0;32m    190\u001b[0m         \u001b[38;5;28mself\u001b[39m\u001b[38;5;241m.\u001b[39mlogger\u001b[38;5;241m.\u001b[39mcritical(\u001b[38;5;124mf\u001b[39m\u001b[38;5;124m\"\u001b[39m\u001b[38;5;124mreturn code: \u001b[39m\u001b[38;5;132;01m{\u001b[39;00mproc\u001b[38;5;241m.\u001b[39mreturncode\u001b[38;5;132;01m}\u001b[39;00m\u001b[38;5;124m\"\u001b[39m)\n\u001b[1;32m--> 191\u001b[0m         \u001b[38;5;28;01mraise\u001b[39;00m \u001b[38;5;167;01mException\u001b[39;00m(\u001b[38;5;124m\"\u001b[39m\u001b[38;5;124mInternal Error occurred!\u001b[39m\u001b[38;5;124m\"\u001b[39m)\n\u001b[0;32m    192\u001b[0m \u001b[38;5;28;01mfinally\u001b[39;00m:\n\u001b[0;32m    193\u001b[0m     itmp\u001b[38;5;241m.\u001b[39mclose()\n",
      "\u001b[1;31mException\u001b[0m: Internal Error occurred!"
     ]
    }
   ],
   "source": [
    "pos_tagged = pos_tagger.tag(text)\n",
    "print(\"POS Tagged\", pos_tagged)"
   ]
  },
  {
   "cell_type": "code",
   "execution_count": null,
   "id": "1287ba4a",
   "metadata": {},
   "outputs": [],
   "source": [
    "! pwd"
   ]
  },
  {
   "cell_type": "code",
   "execution_count": null,
   "id": "c69a8bcf",
   "metadata": {},
   "outputs": [],
   "source": [
    "named_entity_recognizer = FarasaNamedEntityRecognizer()"
   ]
  },
  {
   "cell_type": "code",
   "execution_count": 11,
   "id": "92982111",
   "metadata": {},
   "outputs": [
    {
     "name": "stderr",
     "output_type": "stream",
     "text": [
      "[2024-02-27 21:01:42,115 - farasapy_logger - CRITICAL]: error occurred! stdout: , None,  stderr: , None\n",
      "[2024-02-27 21:01:42,115 - farasapy_logger - CRITICAL]: return code: 1\n"
     ]
    },
    {
     "ename": "Exception",
     "evalue": "Internal Error occurred!",
     "output_type": "error",
     "traceback": [
      "\u001b[1;31m---------------------------------------------------------------------------\u001b[0m",
      "\u001b[1;31mException\u001b[0m                                 Traceback (most recent call last)",
      "Cell \u001b[1;32mIn[11], line 1\u001b[0m\n\u001b[1;32m----> 1\u001b[0m named_entity_recognized \u001b[38;5;241m=\u001b[39m named_entity_recognizer\u001b[38;5;241m.\u001b[39mrecognize(text)\n\u001b[0;32m      2\u001b[0m \u001b[38;5;28mprint\u001b[39m(\u001b[38;5;124m\"\u001b[39m\u001b[38;5;124msample named entity recognized:\u001b[39m\u001b[38;5;124m\"\u001b[39m, named_entity_recognized)\n",
      "File \u001b[1;32m~\\anaconda3\\Lib\\site-packages\\farasa\\ner.py:8\u001b[0m, in \u001b[0;36mFarasaNamedEntityRecognizer.recognize\u001b[1;34m(self, text)\u001b[0m\n\u001b[0;32m      7\u001b[0m \u001b[38;5;28;01mdef\u001b[39;00m \u001b[38;5;21mrecognize\u001b[39m(\u001b[38;5;28mself\u001b[39m, text):\n\u001b[1;32m----> 8\u001b[0m     \u001b[38;5;28;01mreturn\u001b[39;00m \u001b[38;5;28mself\u001b[39m\u001b[38;5;241m.\u001b[39m_do_task(text\u001b[38;5;241m=\u001b[39mtext)\n",
      "File \u001b[1;32m~\\anaconda3\\Lib\\site-packages\\farasa\\__base.py:238\u001b[0m, in \u001b[0;36mFarasaBase._do_task\u001b[1;34m(self, text)\u001b[0m\n\u001b[0;32m    236\u001b[0m     \u001b[38;5;28;01mreturn\u001b[39;00m \u001b[38;5;28mself\u001b[39m\u001b[38;5;241m.\u001b[39m_do_task_interactive(strip_text)\n\u001b[0;32m    237\u001b[0m \u001b[38;5;28;01melse\u001b[39;00m:\n\u001b[1;32m--> 238\u001b[0m     \u001b[38;5;28;01mreturn\u001b[39;00m \u001b[38;5;28mself\u001b[39m\u001b[38;5;241m.\u001b[39m_do_task_standalone(strip_text)\n",
      "File \u001b[1;32m~\\anaconda3\\Lib\\site-packages\\farasa\\__base.py:231\u001b[0m, in \u001b[0;36mFarasaBase._do_task_standalone\u001b[1;34m(self, strip_text)\u001b[0m\n\u001b[0;32m    229\u001b[0m \u001b[38;5;28;01mdef\u001b[39;00m \u001b[38;5;21m_do_task_standalone\u001b[39m(\u001b[38;5;28mself\u001b[39m, strip_text):\n\u001b[0;32m    230\u001b[0m     byted_strip_text \u001b[38;5;241m=\u001b[39m \u001b[38;5;28mstr\u001b[39m\u001b[38;5;241m.\u001b[39mencode(strip_text)\n\u001b[1;32m--> 231\u001b[0m     \u001b[38;5;28;01mreturn\u001b[39;00m \u001b[38;5;28mself\u001b[39m\u001b[38;5;241m.\u001b[39m_run_task(btext\u001b[38;5;241m=\u001b[39mbyted_strip_text)\n",
      "File \u001b[1;32m~\\anaconda3\\Lib\\site-packages\\farasa\\__base.py:191\u001b[0m, in \u001b[0;36mFarasaBase._run_task\u001b[1;34m(self, btext)\u001b[0m\n\u001b[0;32m    187\u001b[0m         \u001b[38;5;28mself\u001b[39m\u001b[38;5;241m.\u001b[39mlogger\u001b[38;5;241m.\u001b[39mcritical(\n\u001b[0;32m    188\u001b[0m             \u001b[38;5;124mf\u001b[39m\u001b[38;5;124m\"\u001b[39m\u001b[38;5;124merror occurred! stdout: , \u001b[39m\u001b[38;5;132;01m{\u001b[39;00mproc\u001b[38;5;241m.\u001b[39mstdout\u001b[38;5;132;01m}\u001b[39;00m\u001b[38;5;124m,  stderr: , \u001b[39m\u001b[38;5;132;01m{\u001b[39;00mproc\u001b[38;5;241m.\u001b[39mstderr\u001b[38;5;132;01m}\u001b[39;00m\u001b[38;5;124m\"\u001b[39m\n\u001b[0;32m    189\u001b[0m         )\n\u001b[0;32m    190\u001b[0m         \u001b[38;5;28mself\u001b[39m\u001b[38;5;241m.\u001b[39mlogger\u001b[38;5;241m.\u001b[39mcritical(\u001b[38;5;124mf\u001b[39m\u001b[38;5;124m\"\u001b[39m\u001b[38;5;124mreturn code: \u001b[39m\u001b[38;5;132;01m{\u001b[39;00mproc\u001b[38;5;241m.\u001b[39mreturncode\u001b[38;5;132;01m}\u001b[39;00m\u001b[38;5;124m\"\u001b[39m)\n\u001b[1;32m--> 191\u001b[0m         \u001b[38;5;28;01mraise\u001b[39;00m \u001b[38;5;167;01mException\u001b[39;00m(\u001b[38;5;124m\"\u001b[39m\u001b[38;5;124mInternal Error occurred!\u001b[39m\u001b[38;5;124m\"\u001b[39m)\n\u001b[0;32m    192\u001b[0m \u001b[38;5;28;01mfinally\u001b[39;00m:\n\u001b[0;32m    193\u001b[0m     itmp\u001b[38;5;241m.\u001b[39mclose()\n",
      "\u001b[1;31mException\u001b[0m: Internal Error occurred!"
     ]
    }
   ],
   "source": [
    "named_entity_recognized = named_entity_recognizer.recognize(text)\n",
    "print(\"sample named entity recognized:\", named_entity_recognized)"
   ]
  },
  {
   "cell_type": "code",
   "execution_count": 16,
   "id": "f62b2c7f",
   "metadata": {},
   "outputs": [],
   "source": [
    "diacritizer = FarasaDiacritizer()"
   ]
  },
  {
   "cell_type": "code",
   "execution_count": 18,
   "id": "c2164d3e",
   "metadata": {},
   "outputs": [
    {
     "name": "stderr",
     "output_type": "stream",
     "text": [
      "[2024-02-27 21:16:58,142 - farasapy_logger - CRITICAL]: error occurred! stdout: , None,  stderr: , None\n",
      "[2024-02-27 21:16:58,143 - farasapy_logger - CRITICAL]: return code: 1\n"
     ]
    },
    {
     "ename": "Exception",
     "evalue": "Internal Error occurred!",
     "output_type": "error",
     "traceback": [
      "\u001b[1;31m---------------------------------------------------------------------------\u001b[0m",
      "\u001b[1;31mException\u001b[0m                                 Traceback (most recent call last)",
      "Cell \u001b[1;32mIn[18], line 1\u001b[0m\n\u001b[1;32m----> 1\u001b[0m diacritized \u001b[38;5;241m=\u001b[39m diacritizer\u001b[38;5;241m.\u001b[39mdiacritize(text)\n\u001b[0;32m      2\u001b[0m \u001b[38;5;28mprint\u001b[39m(\u001b[38;5;124m\"\u001b[39m\u001b[38;5;124msample diacritized:\u001b[39m\u001b[38;5;124m\"\u001b[39m, diacritized)\n",
      "File \u001b[1;32m~\\anaconda3\\Lib\\site-packages\\farasa\\diacratizer.py:8\u001b[0m, in \u001b[0;36mFarasaDiacritizer.diacritize\u001b[1;34m(self, text)\u001b[0m\n\u001b[0;32m      7\u001b[0m \u001b[38;5;28;01mdef\u001b[39;00m \u001b[38;5;21mdiacritize\u001b[39m(\u001b[38;5;28mself\u001b[39m, text):\n\u001b[1;32m----> 8\u001b[0m     \u001b[38;5;28;01mreturn\u001b[39;00m \u001b[38;5;28mself\u001b[39m\u001b[38;5;241m.\u001b[39m_do_task(text\u001b[38;5;241m=\u001b[39mtext)\n",
      "File \u001b[1;32m~\\anaconda3\\Lib\\site-packages\\farasa\\__base.py:238\u001b[0m, in \u001b[0;36mFarasaBase._do_task\u001b[1;34m(self, text)\u001b[0m\n\u001b[0;32m    236\u001b[0m     \u001b[38;5;28;01mreturn\u001b[39;00m \u001b[38;5;28mself\u001b[39m\u001b[38;5;241m.\u001b[39m_do_task_interactive(strip_text)\n\u001b[0;32m    237\u001b[0m \u001b[38;5;28;01melse\u001b[39;00m:\n\u001b[1;32m--> 238\u001b[0m     \u001b[38;5;28;01mreturn\u001b[39;00m \u001b[38;5;28mself\u001b[39m\u001b[38;5;241m.\u001b[39m_do_task_standalone(strip_text)\n",
      "File \u001b[1;32m~\\anaconda3\\Lib\\site-packages\\farasa\\__base.py:231\u001b[0m, in \u001b[0;36mFarasaBase._do_task_standalone\u001b[1;34m(self, strip_text)\u001b[0m\n\u001b[0;32m    229\u001b[0m \u001b[38;5;28;01mdef\u001b[39;00m \u001b[38;5;21m_do_task_standalone\u001b[39m(\u001b[38;5;28mself\u001b[39m, strip_text):\n\u001b[0;32m    230\u001b[0m     byted_strip_text \u001b[38;5;241m=\u001b[39m \u001b[38;5;28mstr\u001b[39m\u001b[38;5;241m.\u001b[39mencode(strip_text)\n\u001b[1;32m--> 231\u001b[0m     \u001b[38;5;28;01mreturn\u001b[39;00m \u001b[38;5;28mself\u001b[39m\u001b[38;5;241m.\u001b[39m_run_task(btext\u001b[38;5;241m=\u001b[39mbyted_strip_text)\n",
      "File \u001b[1;32m~\\anaconda3\\Lib\\site-packages\\farasa\\__base.py:191\u001b[0m, in \u001b[0;36mFarasaBase._run_task\u001b[1;34m(self, btext)\u001b[0m\n\u001b[0;32m    187\u001b[0m         \u001b[38;5;28mself\u001b[39m\u001b[38;5;241m.\u001b[39mlogger\u001b[38;5;241m.\u001b[39mcritical(\n\u001b[0;32m    188\u001b[0m             \u001b[38;5;124mf\u001b[39m\u001b[38;5;124m\"\u001b[39m\u001b[38;5;124merror occurred! stdout: , \u001b[39m\u001b[38;5;132;01m{\u001b[39;00mproc\u001b[38;5;241m.\u001b[39mstdout\u001b[38;5;132;01m}\u001b[39;00m\u001b[38;5;124m,  stderr: , \u001b[39m\u001b[38;5;132;01m{\u001b[39;00mproc\u001b[38;5;241m.\u001b[39mstderr\u001b[38;5;132;01m}\u001b[39;00m\u001b[38;5;124m\"\u001b[39m\n\u001b[0;32m    189\u001b[0m         )\n\u001b[0;32m    190\u001b[0m         \u001b[38;5;28mself\u001b[39m\u001b[38;5;241m.\u001b[39mlogger\u001b[38;5;241m.\u001b[39mcritical(\u001b[38;5;124mf\u001b[39m\u001b[38;5;124m\"\u001b[39m\u001b[38;5;124mreturn code: \u001b[39m\u001b[38;5;132;01m{\u001b[39;00mproc\u001b[38;5;241m.\u001b[39mreturncode\u001b[38;5;132;01m}\u001b[39;00m\u001b[38;5;124m\"\u001b[39m)\n\u001b[1;32m--> 191\u001b[0m         \u001b[38;5;28;01mraise\u001b[39;00m \u001b[38;5;167;01mException\u001b[39;00m(\u001b[38;5;124m\"\u001b[39m\u001b[38;5;124mInternal Error occurred!\u001b[39m\u001b[38;5;124m\"\u001b[39m)\n\u001b[0;32m    192\u001b[0m \u001b[38;5;28;01mfinally\u001b[39;00m:\n\u001b[0;32m    193\u001b[0m     itmp\u001b[38;5;241m.\u001b[39mclose()\n",
      "\u001b[1;31mException\u001b[0m: Internal Error occurred!"
     ]
    }
   ],
   "source": [
    "diacritized = diacritizer.diacritize(text)\n",
    "print(\"sample diacritized:\", diacritized)"
   ]
  },
  {
   "cell_type": "code",
   "execution_count": 19,
   "id": "ac211221",
   "metadata": {},
   "outputs": [
    {
     "name": "stderr",
     "output_type": "stream",
     "text": [
      "[2024-02-27 21:17:53,026 - farasapy_logger - WARNING]: Be careful with large lines as they may break on interactive mode. You may switch to Standalone mode for such cases.\n"
     ]
    }
   ],
   "source": [
    "named_entity_recognizer_interactive = FarasaNamedEntityRecognizer(interactive=True)"
   ]
  },
  {
   "cell_type": "code",
   "execution_count": 21,
   "id": "44ebac3a",
   "metadata": {},
   "outputs": [
    {
     "ename": "OSError",
     "evalue": "[Errno 22] Invalid argument",
     "output_type": "error",
     "traceback": [
      "\u001b[1;31m---------------------------------------------------------------------------\u001b[0m",
      "\u001b[1;31mOSError\u001b[0m                                   Traceback (most recent call last)",
      "Cell \u001b[1;32mIn[21], line 1\u001b[0m\n\u001b[1;32m----> 1\u001b[0m named_entity_recognized_interactive \u001b[38;5;241m=\u001b[39m named_entity_recognizer_interactive\u001b[38;5;241m.\u001b[39mrecognize(text)\n\u001b[0;32m      2\u001b[0m \u001b[38;5;28mprint\u001b[39m(\u001b[38;5;124m\"\u001b[39m\u001b[38;5;124msample named entity recognized (interactive):\u001b[39m\u001b[38;5;124m\"\u001b[39m,named_entity_recognized_interactive)\n\u001b[0;32m      3\u001b[0m \u001b[38;5;66;03m# terminate the object to save resources:\u001b[39;00m\n",
      "File \u001b[1;32m~\\anaconda3\\Lib\\site-packages\\farasa\\ner.py:8\u001b[0m, in \u001b[0;36mFarasaNamedEntityRecognizer.recognize\u001b[1;34m(self, text)\u001b[0m\n\u001b[0;32m      7\u001b[0m \u001b[38;5;28;01mdef\u001b[39;00m \u001b[38;5;21mrecognize\u001b[39m(\u001b[38;5;28mself\u001b[39m, text):\n\u001b[1;32m----> 8\u001b[0m     \u001b[38;5;28;01mreturn\u001b[39;00m \u001b[38;5;28mself\u001b[39m\u001b[38;5;241m.\u001b[39m_do_task(text\u001b[38;5;241m=\u001b[39mtext)\n",
      "File \u001b[1;32m~\\anaconda3\\Lib\\site-packages\\farasa\\__base.py:236\u001b[0m, in \u001b[0;36mFarasaBase._do_task\u001b[1;34m(self, text)\u001b[0m\n\u001b[0;32m    234\u001b[0m strip_text \u001b[38;5;241m=\u001b[39m text\u001b[38;5;241m.\u001b[39mstrip()\n\u001b[0;32m    235\u001b[0m \u001b[38;5;28;01mif\u001b[39;00m \u001b[38;5;28mself\u001b[39m\u001b[38;5;241m.\u001b[39m__interactive:\n\u001b[1;32m--> 236\u001b[0m     \u001b[38;5;28;01mreturn\u001b[39;00m \u001b[38;5;28mself\u001b[39m\u001b[38;5;241m.\u001b[39m_do_task_interactive(strip_text)\n\u001b[0;32m    237\u001b[0m \u001b[38;5;28;01melse\u001b[39;00m:\n\u001b[0;32m    238\u001b[0m     \u001b[38;5;28;01mreturn\u001b[39;00m \u001b[38;5;28mself\u001b[39m\u001b[38;5;241m.\u001b[39m_do_task_standalone(strip_text)\n",
      "File \u001b[1;32m~\\anaconda3\\Lib\\site-packages\\farasa\\__base.py:224\u001b[0m, in \u001b[0;36mFarasaBase._do_task_interactive\u001b[1;34m(self, strip_text)\u001b[0m\n\u001b[0;32m    222\u001b[0m newlined_line \u001b[38;5;241m=\u001b[39m line \u001b[38;5;241m+\u001b[39m \u001b[38;5;124m\"\u001b[39m\u001b[38;5;130;01m\\n\u001b[39;00m\u001b[38;5;124m\"\u001b[39m\n\u001b[0;32m    223\u001b[0m byted_newlined_line \u001b[38;5;241m=\u001b[39m \u001b[38;5;28mstr\u001b[39m\u001b[38;5;241m.\u001b[39mencode(newlined_line)\n\u001b[1;32m--> 224\u001b[0m output \u001b[38;5;241m=\u001b[39m \u001b[38;5;28mself\u001b[39m\u001b[38;5;241m.\u001b[39m_run_task_interactive(byted_newlined_line)\n\u001b[0;32m    225\u001b[0m \u001b[38;5;28;01mif\u001b[39;00m output:\n\u001b[0;32m    226\u001b[0m     outputs\u001b[38;5;241m.\u001b[39mappend(output)\n",
      "File \u001b[1;32m~\\anaconda3\\Lib\\site-packages\\farasa\\__base.py:205\u001b[0m, in \u001b[0;36mFarasaBase._run_task_interactive\u001b[1;34m(self, btext)\u001b[0m\n\u001b[0;32m    203\u001b[0m     \u001b[38;5;28mself\u001b[39m\u001b[38;5;241m.\u001b[39m__task_proc\u001b[38;5;241m.\u001b[39mstdin\u001b[38;5;241m.\u001b[39mflush()\n\u001b[0;32m    204\u001b[0m     \u001b[38;5;28mself\u001b[39m\u001b[38;5;241m.\u001b[39m__task_proc\u001b[38;5;241m.\u001b[39mstdin\u001b[38;5;241m.\u001b[39mwrite(btext)\n\u001b[1;32m--> 205\u001b[0m     \u001b[38;5;28mself\u001b[39m\u001b[38;5;241m.\u001b[39m__task_proc\u001b[38;5;241m.\u001b[39mstdin\u001b[38;5;241m.\u001b[39mflush()\n\u001b[0;32m    206\u001b[0m \u001b[38;5;28;01mexcept\u001b[39;00m \u001b[38;5;167;01mBrokenPipeError\u001b[39;00m \u001b[38;5;28;01mas\u001b[39;00m broken_pipe:\n\u001b[0;32m    207\u001b[0m     \u001b[38;5;28mself\u001b[39m\u001b[38;5;241m.\u001b[39mlogger\u001b[38;5;241m.\u001b[39merror(\n\u001b[0;32m    208\u001b[0m         \u001b[38;5;124mf\u001b[39m\u001b[38;5;124m\"\u001b[39m\u001b[38;5;124mpipe broke! error code and message: [\u001b[39m\u001b[38;5;132;01m{\u001b[39;00mbroken_pipe\u001b[38;5;132;01m}\u001b[39;00m\u001b[38;5;124m]. reinitailize the process.., This may take sometime depending on the running task\u001b[39m\u001b[38;5;124m\"\u001b[39m\n\u001b[0;32m    209\u001b[0m     )\n",
      "\u001b[1;31mOSError\u001b[0m: [Errno 22] Invalid argument"
     ]
    }
   ],
   "source": [
    "named_entity_recognized_interactive = named_entity_recognizer_interactive.recognize(text)\n",
    "print(\"sample named entity recognized (interactive):\",named_entity_recognized_interactive)\n",
    "# terminate the object to save resources:\n",
    "named_entity_recognizer_interactive.terminate()"
   ]
  },
  {
   "cell_type": "code",
   "execution_count": null,
   "id": "e43c8ea2",
   "metadata": {},
   "outputs": [],
   "source": []
  }
 ],
 "metadata": {
  "kernelspec": {
   "display_name": "Python 3 (ipykernel)",
   "language": "python",
   "name": "python3"
  },
  "language_info": {
   "codemirror_mode": {
    "name": "ipython",
    "version": 3
   },
   "file_extension": ".py",
   "mimetype": "text/x-python",
   "name": "python",
   "nbconvert_exporter": "python",
   "pygments_lexer": "ipython3",
   "version": "3.11.5"
  }
 },
 "nbformat": 4,
 "nbformat_minor": 5
}
