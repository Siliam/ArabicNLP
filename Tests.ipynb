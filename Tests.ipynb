{
 "cells": [
  {
   "cell_type": "code",
   "execution_count": 1,
   "id": "a8826622",
   "metadata": {},
   "outputs": [],
   "source": [
    "# pip install Farasa"
   ]
  },
  {
   "cell_type": "code",
   "execution_count": 2,
   "id": "52766114",
   "metadata": {},
   "outputs": [],
   "source": [
    "from farasa.pos import FarasaPOSTagger \n",
    "from farasa.ner import FarasaNamedEntityRecognizer \n",
    "from farasa.diacratizer import FarasaDiacritizer \n",
    "from farasa.segmenter import FarasaSegmenter \n",
    "from farasa.stemmer import FarasaStemmer"
   ]
  },
  {
   "cell_type": "code",
   "execution_count": 12,
   "id": "b3a55abd",
   "metadata": {},
   "outputs": [],
   "source": [
    "text = \"و متى سكن الليل و عم الظلام تردد إلى المزرعة أولئك الذين لم يبيتوا معنا من الأمس. و فور اكتمالهم تنطلق نقرة الطبل الأولى تتبعها رنة عود، و نبدأ معا ليلة أخرى في دياليز الغياب. نخرج أجسادنا و نترك لأرواحنا فرصة أن تغتسل قليلاً من فوضانا.\""
   ]
  },
  {
   "cell_type": "code",
   "execution_count": 4,
   "id": "64483f57",
   "metadata": {},
   "outputs": [],
   "source": [
    "stemmer = FarasaStemmer()"
   ]
  },
  {
   "cell_type": "code",
   "execution_count": 5,
   "id": "31e156bf",
   "metadata": {},
   "outputs": [
    {
     "name": "stdout",
     "output_type": "stream",
     "text": [
      "Stemmed:\n",
      " و متى سكن ليل و عم ظلام تردد إلى مزرع أولائك الذي لم بات مع من أمس . و فور اكتمال انطلق نقرة طبل أول تبع رنة عود ، و بدأ معا ليلة آخر في دياليز غياب . نجرج جسد و نتر روح فرصة أن اغتسل قليل من فوضا .\n"
     ]
    }
   ],
   "source": [
    "stemmed = stemmer.stem(text)\n",
    "print(\"Stemmed:\\n\", stemmed)"
   ]
  },
  {
   "cell_type": "code",
   "execution_count": 6,
   "id": "057c4965",
   "metadata": {},
   "outputs": [],
   "source": [
    "segmenter = FarasaSegmenter()"
   ]
  },
  {
   "cell_type": "code",
   "execution_count": 7,
   "id": "db80447b",
   "metadata": {},
   "outputs": [
    {
     "name": "stdout",
     "output_type": "stream",
     "text": [
      "Segmented:\n",
      " و متى سكن ال+ليل و عم ال+ظلام تردد إلى ال+مزرع+ة أولئك الذين لم يبيت+وا مع+نا من ال+أمس . و فور اكتمال+هم تنطلق نقر+ة ال+طبل ال+أولى تتبع+ها رن+ة عود ، و نبدأ مع+ا ليل+ة أخرى في دياليز ال+غياب . نجرج أجساد+نا و نترك ل+أرواح+نا فرص+ة أن تغتسل قليل+ا من فوضا+نا .\n"
     ]
    }
   ],
   "source": [
    "segmented = segmenter.segment(text)\n",
    "print(\"Segmented:\\n\", segmented)"
   ]
  },
  {
   "cell_type": "markdown",
   "id": "4a3ca44c",
   "metadata": {},
   "source": [
    "# AraBert"
   ]
  },
  {
   "cell_type": "code",
   "execution_count": 10,
   "id": "e43c8ea2",
   "metadata": {},
   "outputs": [],
   "source": [
    "! pip install -q arabert"
   ]
  },
  {
   "cell_type": "code",
   "execution_count": 15,
   "id": "40bf22e9",
   "metadata": {},
   "outputs": [],
   "source": [
    "from arabert.preprocess import ArabertPreprocessor\n",
    "from transformers import AutoTokenizer, AutoModelForMaskedLM"
   ]
  },
  {
   "cell_type": "code",
   "execution_count": 13,
   "id": "9c177f03",
   "metadata": {},
   "outputs": [
    {
     "name": "stderr",
     "output_type": "stream",
     "text": [
      "[2024-03-11 23:24:39,886 - farasapy_logger - WARNING]: Be careful with large lines as they may break on interactive mode. You may switch to Standalone mode for such cases.\n"
     ]
    },
    {
     "data": {
      "text/plain": [
       "'و متى سكن ال+ ليل و عم ال+ ظلام تردد إلى ال+ مزرع +ة أولئك الذين لم يبيت +وا مع +نا من ال+ أمس . و فور اكتمال +هم تنطلق نقر +ة ال+ طبل ال+ أولى تتبع +ها رن +ة عود ، و نبدأ مع +ا ليل +ة أخرى في دياليز ال+ غياب . نخرج أجساد +نا و نترك ل+ أرواح +نا فرص +ة أن تغتسل قليل +ا من فوضا +نا .'"
      ]
     },
     "execution_count": 13,
     "metadata": {},
     "output_type": "execute_result"
    }
   ],
   "source": [
    "from arabert.preprocess import ArabertPreprocessor\n",
    "\n",
    "model_name = \"aubmindlab/bert-base-arabertv2\"\n",
    "arabert_prep = ArabertPreprocessor(model_name=model_name)\n",
    "\n",
    "from arabert.preprocess import ArabertPreprocessor\n",
    "from transformers import AutoTokenizer, AutoModelForMaskedLM\n",
    "arabert_prep.preprocess(text)"
   ]
  },
  {
   "cell_type": "code",
   "execution_count": 16,
   "id": "7925bba6",
   "metadata": {},
   "outputs": [
    {
     "data": {
      "application/vnd.jupyter.widget-view+json": {
       "model_id": "5596c47ee8d74d89a8adb8f09d94ad42",
       "version_major": 2,
       "version_minor": 0
      },
      "text/plain": [
       "tokenizer_config.json:   0%|          | 0.00/476 [00:00<?, ?B/s]"
      ]
     },
     "metadata": {},
     "output_type": "display_data"
    },
    {
     "name": "stderr",
     "output_type": "stream",
     "text": [
      "C:\\Users\\harri\\anaconda3\\Lib\\site-packages\\huggingface_hub\\file_download.py:147: UserWarning: `huggingface_hub` cache-system uses symlinks by default to efficiently store duplicated files but your machine does not support them in C:\\Users\\harri\\.cache\\huggingface\\hub. Caching files will still work but in a degraded version that might require more space on your disk. This warning can be disabled by setting the `HF_HUB_DISABLE_SYMLINKS_WARNING` environment variable. For more details, see https://huggingface.co/docs/huggingface_hub/how-to-cache#limitations.\n",
      "To support symlinks on Windows, you either need to activate Developer Mode or to run Python as an administrator. In order to see activate developer mode, see this article: https://docs.microsoft.com/en-us/windows/apps/get-started/enable-your-device-for-development\n",
      "  warnings.warn(message)\n"
     ]
    },
    {
     "data": {
      "application/vnd.jupyter.widget-view+json": {
       "model_id": "7effba743c5f4845a56c277c8d9cc0f2",
       "version_major": 2,
       "version_minor": 0
      },
      "text/plain": [
       "vocab.txt:   0%|          | 0.00/751k [00:00<?, ?B/s]"
      ]
     },
     "metadata": {},
     "output_type": "display_data"
    },
    {
     "data": {
      "application/vnd.jupyter.widget-view+json": {
       "model_id": "687a15181a0f4754b3f9f3737cc77a24",
       "version_major": 2,
       "version_minor": 0
      },
      "text/plain": [
       "tokenizer.json:   0%|          | 0.00/1.25M [00:00<?, ?B/s]"
      ]
     },
     "metadata": {},
     "output_type": "display_data"
    },
    {
     "data": {
      "application/vnd.jupyter.widget-view+json": {
       "model_id": "7eece1b6c86648dcb9029f3e586e5f4f",
       "version_major": 2,
       "version_minor": 0
      },
      "text/plain": [
       "special_tokens_map.json:   0%|          | 0.00/112 [00:00<?, ?B/s]"
      ]
     },
     "metadata": {},
     "output_type": "display_data"
    },
    {
     "data": {
      "application/vnd.jupyter.widget-view+json": {
       "model_id": "36fba2fe04634ba9a5d6f42263a79d42",
       "version_major": 2,
       "version_minor": 0
      },
      "text/plain": [
       "config.json:   0%|          | 0.00/667 [00:00<?, ?B/s]"
      ]
     },
     "metadata": {},
     "output_type": "display_data"
    },
    {
     "data": {
      "application/vnd.jupyter.widget-view+json": {
       "model_id": "f96e7a9ec36f4b73ae79344420785d59",
       "version_major": 2,
       "version_minor": 0
      },
      "text/plain": [
       "model.safetensors:   0%|          | 0.00/541M [00:00<?, ?B/s]"
      ]
     },
     "metadata": {},
     "output_type": "display_data"
    }
   ],
   "source": [
    "tokenizer = AutoTokenizer.from_pretrained(\"aubmindlab/bert-base-arabertv02-twitter\")\n",
    "model = AutoModelForMaskedLM.from_pretrained(\"aubmindlab/bert-base-arabertv02-twitter\")"
   ]
  },
  {
   "cell_type": "code",
   "execution_count": null,
   "id": "83e59d49",
   "metadata": {},
   "outputs": [],
   "source": [
    "tokenized_text = tokenizer.tokenize(marked_text)\n",
    "\n",
    "# Print out the tokens.\n",
    "print (tokenized_text)\n"
   ]
  }
 ],
 "metadata": {
  "kernelspec": {
   "display_name": "Python 3 (ipykernel)",
   "language": "python",
   "name": "python3"
  },
  "language_info": {
   "codemirror_mode": {
    "name": "ipython",
    "version": 3
   },
   "file_extension": ".py",
   "mimetype": "text/x-python",
   "name": "python",
   "nbconvert_exporter": "python",
   "pygments_lexer": "ipython3",
   "version": "3.11.5"
  }
 },
 "nbformat": 4,
 "nbformat_minor": 5
}
