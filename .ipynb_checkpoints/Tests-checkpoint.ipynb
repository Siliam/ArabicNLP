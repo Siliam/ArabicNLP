{
 "cells": [
  {
   "cell_type": "code",
   "execution_count": 1,
   "id": "a8826622",
   "metadata": {},
   "outputs": [],
   "source": [
    "! pip -q install farasapy"
   ]
  },
  {
   "cell_type": "code",
   "execution_count": 2,
   "id": "52766114",
   "metadata": {},
   "outputs": [],
   "source": [
    "from farasa.pos import FarasaPOSTagger \n",
    "from farasa.ner import FarasaNamedEntityRecognizer \n",
    "from farasa.diacratizer import FarasaDiacritizer \n",
    "from farasa.segmenter import FarasaSegmenter \n",
    "from farasa.stemmer import FarasaStemmer"
   ]
  },
  {
   "cell_type": "code",
   "execution_count": 3,
   "id": "b3a55abd",
   "metadata": {},
   "outputs": [],
   "source": [
    "text = \"و متى سكن الليل و عم الظلام تردد إلى المزرعة أولئك الذين لم يبيتوا معنا من الأمس. و فور اكتمالهم تنطلق نقرة الطبل الأولى تتبعها رنة عود، و نبدأ معا ليلة أخرى في دياليز الغياب. نجرج أجسادنا و نترك لأرواحنا فرصة أن تغتسل قليلاً من فوضانا.\""
   ]
  },
  {
   "cell_type": "code",
   "execution_count": 4,
   "id": "64483f57",
   "metadata": {},
   "outputs": [
    {
     "name": "stderr",
     "output_type": "stream",
     "text": [
      "C:\\Users\\harri\\anaconda3\\Lib\\site-packages\\urllib3\\connectionpool.py:1056: InsecureRequestWarning: Unverified HTTPS request is being made to host 'farasa-api.qcri.org'. Adding certificate verification is strongly advised. See: https://urllib3.readthedocs.io/en/1.26.x/advanced-usage.html#ssl-warnings\n",
      "  warnings.warn(\n"
     ]
    },
    {
     "name": "stdout",
     "output_type": "stream",
     "text": [
      "100%|██████████████████████████████████████████████████████████████████████████████| 241M/241M [03:25<00:00, 1.18MiB/s]\n"
     ]
    }
   ],
   "source": [
    "stemmer = FarasaStemmer()"
   ]
  },
  {
   "cell_type": "code",
   "execution_count": 7,
   "id": "31e156bf",
   "metadata": {},
   "outputs": [
    {
     "name": "stdout",
     "output_type": "stream",
     "text": [
      "Segmented: و متى سكن ليل و عم ظلام تردد إلى مزرع أولائك الذي لم بات مع من أمس . و فور اكتمال انطلق نقرة طبل أول تبع رنة عود ، و بدأ معا ليلة آخر في دياليز غياب . نجرج جسد و نتر روح فرصة أن اغتسل قليل من فوضا .\n"
     ]
    }
   ],
   "source": [
    "stemmed = stemmer.stem(text)\n",
    "print(\"Stemmed:\\n\", stemmed)"
   ]
  },
  {
   "cell_type": "code",
   "execution_count": 9,
   "id": "d58e5299",
   "metadata": {},
   "outputs": [],
   "source": [
    "segmenter = FarasaSegmenter()"
   ]
  },
  {
   "cell_type": "code",
   "execution_count": 10,
   "id": "170f4e3c",
   "metadata": {},
   "outputs": [
    {
     "name": "stdout",
     "output_type": "stream",
     "text": [
      "Segmented:\n",
      " و متى سكن ال+ليل و عم ال+ظلام تردد إلى ال+مزرع+ة أولئك الذين لم يبيت+وا مع+نا من ال+أمس . و فور اكتمال+هم تنطلق نقر+ة ال+طبل ال+أولى تتبع+ها رن+ة عود ، و نبدأ مع+ا ليل+ة أخرى في دياليز ال+غياب . نجرج أجساد+نا و نترك ل+أرواح+نا فرص+ة أن تغتسل قليل+ا من فوضا+نا .\n"
     ]
    }
   ],
   "source": [
    "segmented = segmenter.segment(text)\n",
    "print(\"Segmented:\\n\", segmented)"
   ]
  },
  {
   "cell_type": "code",
   "execution_count": null,
   "id": "9b908726",
   "metadata": {},
   "outputs": [],
   "source": []
  }
 ],
 "metadata": {
  "kernelspec": {
   "display_name": "Python 3 (ipykernel)",
   "language": "python",
   "name": "python3"
  },
  "language_info": {
   "codemirror_mode": {
    "name": "ipython",
    "version": 3
   },
   "file_extension": ".py",
   "mimetype": "text/x-python",
   "name": "python",
   "nbconvert_exporter": "python",
   "pygments_lexer": "ipython3",
   "version": "3.11.5"
  }
 },
 "nbformat": 4,
 "nbformat_minor": 5
}
